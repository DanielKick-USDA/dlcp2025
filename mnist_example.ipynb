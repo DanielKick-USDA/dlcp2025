{
 "cells": [
  {
   "cell_type": "code",
   "execution_count": null,
   "metadata": {},
   "outputs": [],
   "source": [
    "import torch \n",
    "import torch.nn.functional as F # for loss functions\n",
    "\n",
    "from torch.utils.data import Dataset\n",
    "from torch.utils.data import DataLoader\n",
    "from torch import nn\n",
    "\n",
    "import torchvision\n",
    "\n",
    "import matplotlib.pyplot as plt"
   ]
  },
  {
   "cell_type": "code",
   "execution_count": null,
   "metadata": {},
   "outputs": [],
   "source": [
    "## Datasets\n",
    "\n",
    "# MNIST\n",
    "trn = torchvision.datasets.MNIST(root='./data', train=True, download=True)\n",
    "\n",
    "# 100%|██████████| 9.91M/9.91M [00:02<00:00, 3.69MB/s]\n",
    "# 100%|██████████| 28.9k/28.9k [00:00<00:00, 1.37MB/s]\n",
    "# 100%|██████████| 1.65M/1.65M [00:00<00:00, 2.78MB/s]\n",
    "# 100%|██████████| 4.54k/4.54k [00:00<00:00, 2.89MB/s]"
   ]
  },
  {
   "cell_type": "code",
   "execution_count": null,
   "metadata": {},
   "outputs": [],
   "source": [
    "tst = torchvision.datasets.MNIST(root='./data', train=False, download=True)"
   ]
  },
  {
   "cell_type": "code",
   "execution_count": null,
   "metadata": {},
   "outputs": [],
   "source": [
    "tst"
   ]
  },
  {
   "cell_type": "code",
   "execution_count": null,
   "metadata": {},
   "outputs": [],
   "source": [
    "trn_dl = DataLoader(\n",
    "    trn,\n",
    "    batch_size=32,\n",
    "    shuffle=True,\n",
    "    num_workers=2\n",
    ")"
   ]
  },
  {
   "cell_type": "code",
   "execution_count": null,
   "metadata": {},
   "outputs": [],
   "source": [
    "# next(iter(trn_dl))\n",
    "\n",
    "# https://pytorch.org/vision/main/generated/torchvision.transforms.functional.pil_to_tensor.html#pil-to-tensor\n",
    "trn[0]"
   ]
  },
  {
   "cell_type": "code",
   "execution_count": null,
   "metadata": {},
   "outputs": [],
   "source": [
    "plt.imshow(\n",
    "torchvision.transforms.functional.pil_to_tensor(trn[0][0])[0, :, :]\n",
    ")"
   ]
  },
  {
   "cell_type": "code",
   "execution_count": null,
   "metadata": {},
   "outputs": [],
   "source": [
    "class mnist_ds(Dataset):\n",
    "    def __init__(self, ds_pil):\n",
    "        super().__init__()\n",
    "        self.ds_pil = ds_pil\n",
    "\n",
    "    def __len__(self):\n",
    "        return len(self.ds_pil)\n",
    "    \n",
    "    def __getitem__(self, index):\n",
    "        return (\n",
    "            torchvision.transforms.functional.pil_to_tensor(self.ds_pil[index][0]).to(torch.float32),\n",
    "            torch.tensor(self.ds_pil[index][1]).to(torch.float32)\n",
    "            )\n",
    "    \n"
   ]
  },
  {
   "cell_type": "code",
   "execution_count": null,
   "metadata": {},
   "outputs": [],
   "source": [
    "# mnist_ds(trn)[0]\n",
    "\n"
   ]
  },
  {
   "cell_type": "code",
   "execution_count": null,
   "metadata": {},
   "outputs": [],
   "source": [
    "trn_dl = DataLoader(\n",
    "    mnist_ds(trn),\n",
    "    batch_size=32,\n",
    "    shuffle=True,\n",
    "    num_workers=2\n",
    ")\n",
    "\n",
    "tst_dl = DataLoader(\n",
    "    mnist_ds(tst),\n",
    "    batch_size=32,\n",
    "    shuffle=False,\n",
    "    num_workers=2\n",
    ")"
   ]
  },
  {
   "cell_type": "code",
   "execution_count": null,
   "metadata": {},
   "outputs": [],
   "source": [
    "_ = next(iter(trn_dl))"
   ]
  },
  {
   "cell_type": "code",
   "execution_count": null,
   "metadata": {},
   "outputs": [],
   "source": [
    "# _[0][0].shape\n",
    "\n",
    "_ = _[0][0].reshape(-1) #.shape"
   ]
  },
  {
   "cell_type": "code",
   "execution_count": null,
   "metadata": {},
   "outputs": [],
   "source": [
    "# torch.float(_)\n",
    "_\n",
    "plt.imshow(_.reshape(28, -1))"
   ]
  },
  {
   "cell_type": "code",
   "execution_count": null,
   "metadata": {},
   "outputs": [],
   "source": [
    "\n",
    "\n",
    "\n",
    "nn.Linear(784, 32)( _ )"
   ]
  },
  {
   "cell_type": "code",
   "execution_count": null,
   "metadata": {},
   "outputs": [],
   "source": [
    "class Net(nn.Module):\n",
    "    def __init__(self, *args, **kwargs):\n",
    "        super().__init__(*args, **kwargs)\n",
    "        self.l1 = nn.Linear(784, 32)\n",
    "    \n",
    "    def forward(self, x):\n",
    "        x = self.l1(x)\n",
    "        return x"
   ]
  },
  {
   "cell_type": "code",
   "execution_count": null,
   "metadata": {},
   "outputs": [],
   "source": [
    "Net()(_)"
   ]
  },
  {
   "cell_type": "code",
   "execution_count": null,
   "metadata": {},
   "outputs": [],
   "source": [
    "class Net(nn.Module):\n",
    "    def __init__(self, *args, **kwargs):\n",
    "        super().__init__(*args, **kwargs)\n",
    "        self.l1 = nn.Linear(784, 32)\n",
    "        self.l1a = nn.ReLU() # max(x, 0)\n",
    "    \n",
    "    def forward(self, x):\n",
    "        x = self.l1(x)\n",
    "        x = self.l1a(x)\n",
    "        return x\n",
    "    \n",
    "Net()(_)"
   ]
  },
  {
   "cell_type": "code",
   "execution_count": null,
   "metadata": {},
   "outputs": [],
   "source": [
    "class Net(nn.Module):\n",
    "    def __init__(self, *args, **kwargs):\n",
    "        super().__init__(*args, **kwargs)\n",
    "        self.l1 = nn.Linear(784, 32)\n",
    "        self.l1a = nn.ReLU() # max(x, 0)\n",
    "        self.l2 = nn.Linear(32, 1)\n",
    "    \n",
    "    def forward(self, x):\n",
    "        x = self.l1(x)\n",
    "        x = self.l1a(x)\n",
    "        x = self.l2(x)\n",
    "        return x\n",
    "    \n",
    "Net()(_)"
   ]
  },
  {
   "cell_type": "code",
   "execution_count": null,
   "metadata": {},
   "outputs": [],
   "source": [
    "# compare prediction to ground truth (1st entry from the dataloader)\n",
    "# loss function\n",
    "\n",
    "# Update the weights of the network to minimize or maximize the loss function\n",
    "# minimize error\n",
    "\n",
    "# Evalute peformance of the model.\n",
    "\n",
    "\n",
    "# maybe clean up the network class to make it more flexile allowing us to try different depths and widths of the net."
   ]
  }
 ],
 "metadata": {
  "kernelspec": {
   "display_name": ".venv",
   "language": "python",
   "name": "python3"
  },
  "language_info": {
   "codemirror_mode": {
    "name": "ipython",
    "version": 3
   },
   "file_extension": ".py",
   "mimetype": "text/x-python",
   "name": "python",
   "nbconvert_exporter": "python",
   "pygments_lexer": "ipython3",
   "version": "3.11.11"
  }
 },
 "nbformat": 4,
 "nbformat_minor": 2
}
